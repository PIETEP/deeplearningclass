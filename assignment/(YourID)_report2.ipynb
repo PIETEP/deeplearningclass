{
  "nbformat": 4,
  "nbformat_minor": 0,
  "metadata": {
    "colab": {
      "name": "(YourID)_report2.ipynb",
      "version": "0.3.2",
      "provenance": [],
      "include_colab_link": true
    },
    "kernelspec": {
      "display_name": "Python 3",
      "language": "python",
      "name": "python3"
    }
  },
  "cells": [
    {
      "cell_type": "markdown",
      "metadata": {
        "id": "view-in-github",
        "colab_type": "text"
      },
      "source": [
        "[View in Colaboratory](https://colab.research.google.com/github/PIETEP/deeplearningclass/blob/master/assignment/(YourID)_report2.ipynb)"
      ]
    },
    {
      "metadata": {
        "id": "TWJdvzABqy4g",
        "colab_type": "text"
      },
      "cell_type": "markdown",
      "source": [
        "# Machine Learning: Intermediate report\n",
        "\n",
        "+ Your name (Your ID)"
      ]
    },
    {
      "metadata": {
        "id": "mK2Y44D2qy4i",
        "colab_type": "text"
      },
      "cell_type": "markdown",
      "source": [
        "Prepare an environment for running Python codes on Jupyter notebook. The most easiest way is to use [Google Colaboratory](https://colab.research.google.com/).\n",
        "\n",
        "Write codes for the following three (and one optional) problems, and submit the notebook (`.ipynb`) as well as its HTML conversion (`.html`). *We do not accept a report in other formats (e.g., Word, PDF)*. Write a code at the specified cell in the notebook. One can add more cells if necessary.\n",
        "\n",
        "These are the links to the sample codes used in the lecture:\n",
        "\n",
        "+ [Binary classification](https://github.com/chokkan/deeplearningclass/blob/master/mlp_binary.ipynb)\n",
        "+ [MNIST](https://github.com/chokkan/deeplearningclass/blob/master/mnist.ipynb)"
      ]
    },
    {
      "metadata": {
        "id": "Kx7KcviKqy4j",
        "colab_type": "text"
      },
      "cell_type": "markdown",
      "source": [
        "## 1. Multi-class classification on MNIST\n",
        "\n",
        "Train a model on the training set of MNIST, and report the accuracy of the model on the test set. One can use the same code shown in the lecture. Write a code here and show the output."
      ]
    },
    {
      "metadata": {
        "id": "pzwLueAtqy4j",
        "colab_type": "code",
        "colab": {}
      },
      "cell_type": "code",
      "source": [
        "import gzip\n",
        "import os\n",
        "import sys\n",
        "import struct\n",
        "import numpy as np\n",
        "\n",
        "def read_image(fi):\n",
        "  magic, n, rows, columns = struct.unpack(\">IIII\", fi.read(16))\n",
        "  assert magic==0x00000803\n",
        "  assert rows==28\n",
        "  assert columns==28\n",
        "  rawbuffer=fi.read()\n",
        "  assert len(rawbuffer)==n*rows*columns\n",
        "  rawdata=np.frombuffer(rawbuffer,dtype='>u1',count=n*rows*columns)\n",
        "  #dtype>u1:符号なし8ビット整数型を表現　　ビッグエンディアン\n",
        "  #np.frombuffer https://docs.scipy.org/doc/numpy/reference/generated/numpy.frombuffer.html\n",
        "  return rawdata.reshape(n,rows,columns).astype(np.float32)/255.0\n",
        "\n",
        "def read_label(fi):\n",
        "  magic,n=struct.unpack(\">ll\",fi.read(8))\n",
        "  assert magic == 0x00000801\n",
        "  rawbuffer=fi.read()\n",
        "  assert len(rawbuffer)==n\n",
        "  return np.frombuffer(rawbuffer,dtype='>u1',count=n)\n",
        "\n",
        "if __name__=='__main__':\n",
        "  os.system('wget -N http://yann.lecun.com/exdb/mnist/train-images-idx3-ubyte.gz')\n",
        "  os.system('wget -N http://yann.lecun.com/exdb/mnist/train-labels-idx1-ubyte.gz')\n",
        "  os.system('wget -N http://yann.lecun.com/exdb/mnist/t10k-images-idx3-ubyte.gz')\n",
        "  os.system('wget -N http://yann.lecun.com/exdb/mnist/t10k-labels-idx1-ubyte.gz')\n",
        "  \n",
        "  np.savez_compressed(\n",
        "        'mnist',\n",
        "        train_x=read_image(gzip.open('train-images-idx3-ubyte.gz', 'rb')),\n",
        "        train_y=read_label(gzip.open('train-labels-idx1-ubyte.gz', 'rb')),\n",
        "        test_x=read_image(gzip.open('t10k-images-idx3-ubyte.gz', 'rb')),\n",
        "        test_y=read_label(gzip.open('t10k-labels-idx1-ubyte.gz', 'rb'))\n",
        "    )\n",
        "  #https://docs.scipy.org/doc/numpy-1.14.0/reference/generated/numpy.savez_compressed.html"
      ],
      "execution_count": 0,
      "outputs": []
    },
    {
      "metadata": {
        "id": "7CREwXBVVP5Y",
        "colab_type": "code",
        "colab": {
          "base_uri": "https://localhost:8080/",
          "height": 85
        },
        "outputId": "a8eec5eb-d218-4632-efdb-41d3d90285b7"
      },
      "cell_type": "code",
      "source": [
        "import numpy as np\n",
        "data=np.load('mnist.npz')\n",
        "\n",
        "print(data['train_x'].shape, data['train_x'].dtype)\n",
        "print(data['train_y'].shape, data['train_y'].dtype)\n",
        "print(data['test_x'].shape, data['test_x'].dtype)\n",
        "print(data['test_y'].shape, data['test_y'].dtype)"
      ],
      "execution_count": 9,
      "outputs": [
        {
          "output_type": "stream",
          "text": [
            "(60000, 28, 28) float32\n",
            "(60000,) uint8\n",
            "(10000, 28, 28) float32\n",
            "(10000,) uint8\n"
          ],
          "name": "stdout"
        }
      ]
    },
    {
      "metadata": {
        "id": "TzE0rr6pVrTl",
        "colab_type": "code",
        "colab": {}
      },
      "cell_type": "code",
      "source": [
        "import matplotlib.pyplot as plt\n",
        "import numpy as np\n",
        "import seaborn as sns\n",
        "\n",
        "#Index number of an instance (change this to view another instance)\n",
        "i=0\n",
        "\n",
        "data=np.load('mnist.npz')\n",
        "image=data['train_x'][i]\n",
        "label=data['train_y'][i]\n",
        "\n",
        "print(label)\n",
        "f,ax=plt.subplots(figsize=(16,16))\n",
        "#https://matplotlib.org/api/_as_gen/matplotlib.pyplot.subplots.html\n",
        "sns.heatmap(image,annot=True,fmt='.1f',square=True,cmap=\"YlGnBu\")\n",
        "#https://seaborn.pydata.org/generated/seaborn.heatmap.html\n",
        "#annot:Trueにすると各セルにデータ値を書き込む\n",
        "#fmt:annotの書式,小数点1桁まで\n",
        "#sqaure:Trueにすると各セルを正方形に\n",
        "#cmap対応色:https://matplotlib.org/examples/color/colormaps_reference.html\n",
        "plt.show()"
      ],
      "execution_count": 0,
      "outputs": []
    },
    {
      "metadata": {
        "id": "OJ7gdmSeb-zO",
        "colab_type": "code",
        "colab": {}
      },
      "cell_type": "code",
      "source": [
        "!pip  install livelossplot"
      ],
      "execution_count": 0,
      "outputs": []
    },
    {
      "metadata": {
        "id": "qALgrytfqy4o",
        "colab_type": "text"
      },
      "cell_type": "markdown",
      "source": [
        "## 2. Confusion matrix\n",
        "\n",
        "Show a confusion matrix of the predictions of the model on the test set. This is an example of a confusion matrix.\n",
        "\n",
        "![example](https://github.com/PIETEP/deeplearningclass/blob/master/assignment/example-confusion-matrix.png?raw=1)\n",
        "\n",
        "Write a code here and show the confusion matrix."
      ]
    },
    {
      "metadata": {
        "id": "6egMyZmEqy4o",
        "colab_type": "code",
        "colab": {}
      },
      "cell_type": "code",
      "source": [
        ""
      ],
      "execution_count": 0,
      "outputs": []
    },
    {
      "metadata": {
        "id": "qtu3s6nzqy4r",
        "colab_type": "text"
      },
      "cell_type": "markdown",
      "source": [
        "## 3. Top-3 confusing examples\n",
        "\n",
        "Show the top three images where the model misrecognized their digits with strong confidences. More specifically, let $y_n$ and $\\hat{y}_n$ the true and predicted, respectively, digits of the image $x_n$. We want to find three images with high $P(\\hat{y}_n | x_n)$ when $y_n \\neq \\hat{y}_n$.\n",
        "\n",
        "Please show $y_n$, $P(y_n | x_n)$, $\\hat{y}_n$, and $P(\\hat{y}_n | x_n)$. This is an example of an output for an image (you need this kind of outputs for top-three images).\n",
        "\n",
        "![example](https://github.com/PIETEP/deeplearningclass/blob/master/assignment/example-confusing-sample.png?raw=1)\n",
        "\n",
        "Write a code here and show the output."
      ]
    },
    {
      "metadata": {
        "id": "4PzcO7ogqy4t",
        "colab_type": "code",
        "colab": {}
      },
      "cell_type": "code",
      "source": [
        ""
      ],
      "execution_count": 0,
      "outputs": []
    },
    {
      "metadata": {
        "id": "ShZbHDKqqy4y",
        "colab_type": "text"
      },
      "cell_type": "markdown",
      "source": [
        "## 4. Sample codes in other DL frameworks\n",
        "\n",
        "(Advanced; optional) Implement one or more sample code(s) with a different deep learning framework (e.g., Chainer, TensorFlow, DyNet) corresponding to the slides 60-66 in binary classification. *When subitting an answer to this problem, please agree that some of the submitted codes will be distributed on the Web site to improve this lecture.*"
      ]
    },
    {
      "metadata": {
        "id": "WM2SkBfyqy4z",
        "colab_type": "code",
        "colab": {}
      },
      "cell_type": "code",
      "source": [
        ""
      ],
      "execution_count": 0,
      "outputs": []
    }
  ]
}